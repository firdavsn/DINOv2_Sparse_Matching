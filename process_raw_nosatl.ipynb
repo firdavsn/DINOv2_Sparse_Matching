{
 "cells": [
  {
   "cell_type": "code",
   "execution_count": 26,
   "metadata": {},
   "outputs": [],
   "source": [
    "from PIL import Image\n",
    "import numpy as np\n",
    "import cv2\n",
    "import os\n",
    "import glob\n",
    "\n",
    "def get_data_num(path_str: str) -> int:\n",
    "    return int(path_str.split('/')[-1].split('.')[0])\n",
    "\n",
    "def get_image(path: str) -> np.ndarray:\n",
    "    image = cv2.cvtColor(cv2.imread(path, cv2.IMREAD_COLOR), cv2.COLOR_BGR2RGB)\n",
    "    return image\n",
    "\n",
    "def get_images(dir: str) -> dict[int, np.ndarray]:\n",
    "    pattern = os.path.join(dir, '*.tif')\n",
    "    file_list = glob.glob(pattern)\n",
    "    \n",
    "    images = {}\n",
    "    for file_path in file_list:\n",
    "        file_path = file_path.replace('\\\\', '/')\n",
    "        image = get_image(file_path)\n",
    "        \n",
    "        images[get_data_num(file_path)] = image\n",
    "    \n",
    "    return images\n",
    "\n",
    "def resize_image(img_arr: np.ndarray, w: int, h: int) -> np.ndarray:\n",
    "    img = Image.fromarray(img_arr)\n",
    "    img = img.resize((w, h))\n",
    "    return np.array(img)"
   ]
  },
  {
   "cell_type": "code",
   "execution_count": 5,
   "metadata": {},
   "outputs": [],
   "source": [
    "path = 'data/nosat/'\n",
    "\n",
    "images = get_images(path)"
   ]
  },
  {
   "cell_type": "code",
   "execution_count": 34,
   "metadata": {},
   "outputs": [],
   "source": [
    "import matplotlib.pyplot as plt\n",
    "\n",
    "def process_image(input_image, img_path):\n",
    "    image = Image.fromarray(input_image)\n",
    "    image = image.rotate(104)\n",
    "    image = np.array(image)\n",
    "    image = image[int(0.12*image.shape[0]):int(0.88*image.shape[0]), int(0.1*image.shape[1]):int(0.9*image.shape[1])]\n",
    "    factor = 512 / 641\n",
    "    image = image[0:int(factor * image.shape[0]), :]\n",
    "    image = resize_image(image, 641, 512)\n",
    "    image = Image.fromarray(image)\n",
    "    image.save(img_path)\n",
    "\n",
    "for key in images:\n",
    "    image = images[key]\n",
    "    img_path = path + str(key) + '.png'\n",
    "    process_image(image, img_path)"
   ]
  }
 ],
 "metadata": {
  "kernelspec": {
   "display_name": ".venv",
   "language": "python",
   "name": "python3"
  },
  "language_info": {
   "codemirror_mode": {
    "name": "ipython",
    "version": 3
   },
   "file_extension": ".py",
   "mimetype": "text/x-python",
   "name": "python",
   "nbconvert_exporter": "python",
   "pygments_lexer": "ipython3",
   "version": "3.10.11"
  }
 },
 "nbformat": 4,
 "nbformat_minor": 2
}
