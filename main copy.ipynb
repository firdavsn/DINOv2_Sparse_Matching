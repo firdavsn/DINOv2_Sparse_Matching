{
 "cells": [
  {
   "cell_type": "code",
   "execution_count": 1,
   "metadata": {},
   "outputs": [
    {
     "name": "stderr",
     "output_type": "stream",
     "text": [
      "c:\\Users\\firdavs\\Documents\\ARCL\\DINOv2_Sparse_Matching\\.venv\\lib\\site-packages\\tqdm\\auto.py:21: TqdmWarning: IProgress not found. Please update jupyter and ipywidgets. See https://ipywidgets.readthedocs.io/en/stable/user_install.html\n",
      "  from .autonotebook import tqdm as notebook_tqdm\n",
      "c:\\Users\\firdavs\\Documents\\ARCL\\DINOv2_Sparse_Matching\\.venv\\lib\\site-packages\\mobile_sam\\modeling\\tiny_vit_sam.py:656: UserWarning: Overwriting tiny_vit_5m_224 in registry with mobile_sam.modeling.tiny_vit_sam.tiny_vit_5m_224. This is because the name being registered conflicts with an existing name. Please check if this is not expected.\n",
      "  return register_model(fn_wrapper)\n",
      "c:\\Users\\firdavs\\Documents\\ARCL\\DINOv2_Sparse_Matching\\.venv\\lib\\site-packages\\mobile_sam\\modeling\\tiny_vit_sam.py:656: UserWarning: Overwriting tiny_vit_11m_224 in registry with mobile_sam.modeling.tiny_vit_sam.tiny_vit_11m_224. This is because the name being registered conflicts with an existing name. Please check if this is not expected.\n",
      "  return register_model(fn_wrapper)\n",
      "c:\\Users\\firdavs\\Documents\\ARCL\\DINOv2_Sparse_Matching\\.venv\\lib\\site-packages\\mobile_sam\\modeling\\tiny_vit_sam.py:656: UserWarning: Overwriting tiny_vit_21m_224 in registry with mobile_sam.modeling.tiny_vit_sam.tiny_vit_21m_224. This is because the name being registered conflicts with an existing name. Please check if this is not expected.\n",
      "  return register_model(fn_wrapper)\n",
      "c:\\Users\\firdavs\\Documents\\ARCL\\DINOv2_Sparse_Matching\\.venv\\lib\\site-packages\\mobile_sam\\modeling\\tiny_vit_sam.py:656: UserWarning: Overwriting tiny_vit_21m_384 in registry with mobile_sam.modeling.tiny_vit_sam.tiny_vit_21m_384. This is because the name being registered conflicts with an existing name. Please check if this is not expected.\n",
      "  return register_model(fn_wrapper)\n",
      "c:\\Users\\firdavs\\Documents\\ARCL\\DINOv2_Sparse_Matching\\.venv\\lib\\site-packages\\mobile_sam\\modeling\\tiny_vit_sam.py:656: UserWarning: Overwriting tiny_vit_21m_512 in registry with mobile_sam.modeling.tiny_vit_sam.tiny_vit_21m_512. This is because the name being registered conflicts with an existing name. Please check if this is not expected.\n",
      "  return register_model(fn_wrapper)\n"
     ]
    }
   ],
   "source": [
    "from patchify import patchify\n",
    "from transformers import SamModel, SamProcessor, SamConfig\n",
    "import torch\n",
    "from datasets import Dataset\n",
    "from PIL import Image\n",
    "from matplotlib.patches import Rectangle\n",
    "import matplotlib.pyplot as plt\n",
    "import random\n",
    "import time\n",
    "\n",
    "from utils import *"
   ]
  },
  {
   "cell_type": "code",
   "execution_count": 2,
   "metadata": {},
   "outputs": [
    {
     "name": "stdout",
     "output_type": "stream",
     "text": [
      "num train_images: 411\n",
      "num val_images: 102\n",
      "num test_images: 101\n"
     ]
    }
   ],
   "source": [
    "paths = {\n",
    "    'train': {'images':   r\"data/sam_finetuning/train/images/\",\n",
    "              'masks':    r\"data/sam_finetuning/train/masks/\",\n",
    "              'bboxes':   r\"data/sam_finetuning/train/bboxes/\"},\n",
    "    'val':   {'images':   r\"data/sam_finetuning/val/images/\",\n",
    "              'masks':    r\"data/sam_finetuning/val/masks/\",\n",
    "              'bboxes':   r\"data/sam_finetuning/val/bboxes/\"},\n",
    "    'test':  {'images':   r\"data/sam_finetuning/test/images/\",\n",
    "              'masks':    r\"data/sam_finetuning/test/masks/\",\n",
    "              'bboxes':   r\"data/sam_finetuning/test/bboxes/\"}\n",
    "}\n",
    "\n",
    "train_images = get_images(paths['train']['images'])\n",
    "val_images   = get_images(paths['val']['images'])\n",
    "test_images  = get_images(paths['test']['images'])\n",
    "\n",
    "train_masks  = get_images(paths['train']['masks'])\n",
    "val_masks    = get_images(paths['val']['masks'])\n",
    "test_masks   = get_images(paths['test']['masks'])\n",
    "\n",
    "train_bboxes = get_bboxes(paths['train']['bboxes'])\n",
    "val_bboxes   = get_bboxes(paths['val']['bboxes'])\n",
    "test_bboxes  = get_bboxes(paths['test']['bboxes'])\n",
    "\n",
    "n_train = len(train_images)\n",
    "n_val   = len(val_images)\n",
    "n_test  = len(test_images)\n",
    "\n",
    "print(f'num train_images: {n_train}')\n",
    "print(f'num val_images: {n_val}')\n",
    "print(f'num test_images: {n_test}')\n",
    "\n",
    "original_dims = (512, 641)"
   ]
  },
  {
   "cell_type": "code",
   "execution_count": 3,
   "metadata": {},
   "outputs": [],
   "source": [
    "def resize_image(img_arr: np.ndarray, w: int, h: int) -> np.ndarray:\n",
    "    img = Image.fromarray(img_arr)\n",
    "    img = img.resize((w, h))\n",
    "    return np.array(img)\n",
    "\n",
    "def prepare_datasets(patch_size: int, image_dims: tuple[int, int]) -> tuple[Dataset, Dataset]:\n",
    "    step = patch_size\n",
    "\n",
    "    x_factor = original_dims[1] / image_dims[1]\n",
    "    y_factor = original_dims[0] / image_dims[0]\n",
    "\n",
    "    # Combine train and val images as train\n",
    "    train_img_patches = []\n",
    "    train_mask_patches = []\n",
    "    \n",
    "    # val_img_patches = []\n",
    "    # val_mask_patches = []\n",
    "\n",
    "    test_img_patches = []\n",
    "    test_mask_patches = []\n",
    "\n",
    "    # Process train images\n",
    "    i = 0\n",
    "    for key in tqdm(train_images):\n",
    "        # Load and resize image\n",
    "        img = train_images[key]\n",
    "        img = resize_image(img, image_dims[0], image_dims[1])\n",
    "\n",
    "        # Patchify image\n",
    "        patches_img = patchify(img, (patch_size, patch_size, 3), step=step)\n",
    "        for j in range(patches_img.shape[0]):\n",
    "            for k in range(patches_img.shape[1]):\n",
    "                single_patch_img = patches_img[j,k,:,:][0]\n",
    "                train_img_patches.append(single_patch_img)\n",
    "        \n",
    "        # Load and resize mask\n",
    "        mask = train_masks[key][:, :, 0] / 255\n",
    "        mask = np.array(mask, dtype=np.uint8)\n",
    "        mask = resize_image(mask, image_dims[0], image_dims[1])\n",
    "\n",
    "        # Patchify mask\n",
    "        patches_mask = patchify(mask, (patch_size, patch_size), step=step)\n",
    "        for j in range(patches_mask.shape[0]):\n",
    "            for k in range(patches_mask.shape[1]):\n",
    "                single_patch_mask = patches_mask[j,k,:,:]\n",
    "                train_mask_patches.append(single_patch_mask)\n",
    "        \n",
    "        i += 1\n",
    "\n",
    "    # Process val images\n",
    "    # i = 0\n",
    "    for key in tqdm(val_images):\n",
    "        # Load and resize image\n",
    "        img = val_images[key]\n",
    "        img = resize_image(img, image_dims[0], image_dims[1])\n",
    "\n",
    "        # Patchify image\n",
    "        patches_img = patchify(img, (patch_size, patch_size, 3), step=step)\n",
    "        for j in range(patches_img.shape[0]):\n",
    "            for k in range(patches_img.shape[1]):\n",
    "                single_patch_img = patches_img[j,k,:,:][0]\n",
    "                # val_img_patches.append(single_patch_img)\n",
    "                train_img_patches.append(single_patch_img)\n",
    "\n",
    "        # Load and resize mask\n",
    "        mask = val_masks[key][:, :, 0] / 255\n",
    "        mask = np.array(mask, dtype=np.uint8)\n",
    "        mask = resize_image(mask, image_dims[0], image_dims[1])\n",
    "\n",
    "        # Patchify mask\n",
    "        patches_mask = patchify(mask, (patch_size, patch_size), step=step)\n",
    "        for j in range(patches_mask.shape[0]):\n",
    "            for k in range(patches_mask.shape[1]):\n",
    "                single_patch_mask = patches_mask[j,k,:,:]\n",
    "                # val_mask_patches.append(single_patch_mask)\n",
    "                train_mask_patches.append(single_patch_mask)\n",
    "        \n",
    "        i += 1\n",
    "\n",
    "    # Process test images\n",
    "    i = 0\n",
    "    for key in tqdm(test_images):\n",
    "        # Load and resize image\n",
    "        img = test_images[key]\n",
    "        img = resize_image(img, image_dims[0], image_dims[1])\n",
    "\n",
    "        # Patchify image\n",
    "        patches_img = patchify(img, (patch_size, patch_size, 3), step=step)\n",
    "        for j in range(patches_img.shape[0]):\n",
    "            for k in range(patches_img.shape[1]):\n",
    "                single_patch_img = patches_img[j,k,:,:][0]\n",
    "                test_img_patches.append(single_patch_img)\n",
    "\n",
    "        # Load and resize mask\n",
    "        mask = test_masks[key][:, :, 0] / 255\n",
    "        mask = np.array(mask, dtype=np.uint8)\n",
    "        mask = resize_image(mask, image_dims[0], image_dims[1])\n",
    "\n",
    "        # Patchify mask\n",
    "        patches_mask = patchify(mask, (patch_size, patch_size), step=step)\n",
    "        for j in range(patches_mask.shape[0]):\n",
    "            for k in range(patches_mask.shape[1]):\n",
    "                single_patch_mask = patches_mask[j,k,:,:]\n",
    "                test_mask_patches.append(single_patch_mask)\n",
    "        \n",
    "        i += 1 \n",
    "        \n",
    "    X_train = np.array(train_img_patches)\n",
    "    Y_train = np.array(train_mask_patches)\n",
    "    \n",
    "    # X_val = np.array(val_img_patches)\n",
    "    # Y_val = np.array(val_mask_patches)\n",
    "\n",
    "    X_test = np.array(test_img_patches)\n",
    "    Y_test = np.array(test_mask_patches)\n",
    "\n",
    "    # Have balanced classes\n",
    "    valid_indices = [i for i, mask in enumerate(Y_train) if mask.max() != 0]\n",
    "    X_train = X_train[valid_indices]\n",
    "    Y_train = Y_train[valid_indices]\n",
    "    print(\"X_train shape:\", X_train.shape)\n",
    "    print(\"Y_train shape:\", Y_train.shape)\n",
    "    \n",
    "    # valid_indices = [i for i, mask in enumerate(Y_val) if mask.max() != 0]\n",
    "    # X_val = X_val[valid_indices]\n",
    "    # Y_val = Y_val[valid_indices]\n",
    "    # print(\"X_val shape:\", X_val.shape)\n",
    "    # print(\"Y_val shape:\", Y_val.shape)\n",
    "    \n",
    "    valid_indices = [i for i, mask in enumerate(Y_test) if mask.max() != 0]\n",
    "    X_test = X_test[valid_indices]\n",
    "    Y_test = Y_test[valid_indices]\n",
    "    print(\"X_test shape:\", X_test.shape)\n",
    "    print(\"Y_test shape:\", Y_test.shape)\n",
    "    \n",
    "    train_dict = {\n",
    "        \"image\": [Image.fromarray(img.astype('uint8')) for img in X_train],\n",
    "        \"mask\":  [Image.fromarray(mask) for mask in Y_train],\n",
    "    }\n",
    "    # val_dict = {\n",
    "    #     \"image\": [Image.fromarray(img.astype('uint8')) for img in X_val],\n",
    "    #     \"mask\":  [Image.fromarray(mask) for mask in Y_val],\n",
    "    # }\n",
    "    test_dict = {\n",
    "        \"image\": [Image.fromarray(img.astype('uint8')) for img in X_test],\n",
    "        \"mask\":  [Image.fromarray(mask) for mask in Y_test],\n",
    "    }\n",
    "\n",
    "    train_dataset = Dataset.from_dict(train_dict)\n",
    "    # val_dataset  = Dataset.from_dict(val_dict)\n",
    "    test_dataset  = Dataset.from_dict(test_dict)\n",
    "    \n",
    "    return train_dataset, test_dataset"
   ]
  },
  {
   "cell_type": "code",
   "execution_count": 4,
   "metadata": {},
   "outputs": [],
   "source": [
    "# Get bounding boxes from mask. (FROM ONLINE SOURCE)\n",
    "def get_bounding_box(ground_truth_map: np.ndarray) -> list[int]:\n",
    "    # get bounding box from mask\n",
    "    y_indices, x_indices = np.where(ground_truth_map > 0)\n",
    "    x_min, x_max = np.min(x_indices), np.max(x_indices)\n",
    "    y_min, y_max = np.min(y_indices), np.max(y_indices)\n",
    "    # add perturbation to bounding box coordinates\n",
    "    H, W = ground_truth_map.shape\n",
    "    x_min = max(0, x_min - np.random.randint(0, 20))\n",
    "    x_max = min(W, x_max + np.random.randint(0, 20))\n",
    "    y_min = max(0, y_min - np.random.randint(0, 20))\n",
    "    y_max = min(H, y_max + np.random.randint(0, 20))\n",
    "    bbox = [x_min, y_min, x_max, y_max]\n",
    "\n",
    "    return bbox"
   ]
  },
  {
   "cell_type": "code",
   "execution_count": 5,
   "metadata": {},
   "outputs": [
    {
     "name": "stderr",
     "output_type": "stream",
     "text": [
      "100%|██████████| 411/411 [00:01<00:00, 227.28it/s]\n",
      "100%|██████████| 102/102 [00:00<00:00, 229.21it/s]\n",
      "100%|██████████| 101/101 [00:00<00:00, 238.52it/s]\n"
     ]
    },
    {
     "name": "stdout",
     "output_type": "stream",
     "text": [
      "X_train shape: (525, 256, 256, 3)\n",
      "Y_train shape: (525, 256, 256)\n",
      "X_test shape: (108, 256, 256, 3)\n",
      "Y_test shape: (108, 256, 256)\n"
     ]
    }
   ],
   "source": [
    "patch_size = 256\n",
    "image_size = 512\n",
    "\n",
    "train_dataset, test_dataset = prepare_datasets(patch_size, (image_size, image_size))"
   ]
  },
  {
   "cell_type": "code",
   "execution_count": 6,
   "metadata": {},
   "outputs": [
    {
     "data": {
      "text/plain": [
       "(Dataset({\n",
       "     features: ['image', 'mask'],\n",
       "     num_rows: 525\n",
       " }),\n",
       " Dataset({\n",
       "     features: ['image', 'mask'],\n",
       "     num_rows: 108\n",
       " }))"
      ]
     },
     "execution_count": 6,
     "metadata": {},
     "output_type": "execute_result"
    }
   ],
   "source": [
    "train_dataset, test_dataset"
   ]
  },
  {
   "cell_type": "code",
   "execution_count": 7,
   "metadata": {},
   "outputs": [
    {
     "data": {
      "image/png": "[encoded data removed]",
      "text/plain": [
       "<Figure size 1000x500 with 2 Axes>"
      ]
     },
     "metadata": {},
     "output_type": "display_data"
    }
   ],
   "source": [
    "img_num = random.randint(0, n_train+n_val-1)\n",
    "example_image = train_dataset[img_num][\"image\"]\n",
    "example_mask = np.array(train_dataset[img_num][\"mask\"]) * 255\n",
    "# example_bbox = train_dataset[img_num][\"bbox\"]\n",
    "\n",
    "bbox = get_bounding_box(np.array(example_mask))\n",
    "\n",
    "fig, axes = plt.subplots(1, 2, figsize=(10, 5))\n",
    "\n",
    "# Plot the iamge on left\n",
    "axes[0].imshow(np.array(example_image), cmap='gray')\n",
    "axes[0].set_title(\"Image\")\n",
    "\n",
    "# Plot the mask on right\n",
    "axes[1].imshow(example_mask, cmap='gray')\n",
    "axes[1].set_title(\"Mask\")\n",
    "\n",
    "# Hide axis ticks and labels\n",
    "for ax in axes:\n",
    "    ax.set_xticks([])\n",
    "    ax.set_yticks([])\n",
    "    ax.set_xticklabels([])\n",
    "    ax.set_yticklabels([])\n",
    "    \n",
    "    rect_pred = Rectangle((bbox[0], bbox[1]), bbox[2] - bbox[0], bbox[3] - bbox[1], linewidth=2, edgecolor='r', facecolor='none')\n",
    "    # rect_true = Rectangle((example_bbox[0], example_bbox[1]), example_bbox[2], example_bbox[3], linewidth=2, edgecolor='g', facecolor='none')\n",
    "    \n",
    "    ax.add_patch(rect_pred)\n",
    "    # ax.add_patch(rect_true)\n",
    "\n",
    "plt.show()"
   ]
  },
  {
   "cell_type": "code",
   "execution_count": 8,
   "metadata": {},
   "outputs": [],
   "source": [
    "from torch.utils.data import Dataset\n",
    "\n",
    "class SAMDataset(Dataset):\n",
    "    \"\"\"\n",
    "    Used to create a dataset that serves input images and masks.\n",
    "    It takes a dataset and a processor as input and overrides the __len__ and __getitem__ methods of the Dataset class.\n",
    "    \"\"\"\n",
    "    def __init__(self, dataset, processor):\n",
    "        self.dataset = dataset\n",
    "        self.processor = processor\n",
    "\n",
    "    def __len__(self):\n",
    "        return len(self.dataset)\n",
    "\n",
    "    def __getitem__(self, idx):\n",
    "        item = self.dataset[idx]\n",
    "        image = item[\"image\"]\n",
    "        \n",
    "        ground_truth_mask = np.array(item[\"mask\"])\n",
    "\n",
    "        # Get bounding box prompt\n",
    "        # prompt = get_bounding_box(ground_truth_mask)\n",
    "        prompt = [0, 0, 256, 256]\n",
    "\n",
    "        # Prepare image and prompt for the model\n",
    "        inputs = self.processor(image, input_boxes=[[prompt]], return_tensors=\"pt\")\n",
    "\n",
    "        # Remove batch dimension which the processor adds by default\n",
    "        inputs = {k:v.squeeze(0) for k,v in inputs.items()}\n",
    "\n",
    "        # Add ground truth segmentation\n",
    "        inputs[\"ground_truth_mask\"] = ground_truth_mask\n",
    "\n",
    "        return inputs"
   ]
  },
  {
   "cell_type": "code",
   "execution_count": 9,
   "metadata": {},
   "outputs": [],
   "source": [
    "def get_device() -> torch.device:\n",
    "    if torch.cuda.is_available():\n",
    "        device = torch.device(\"cuda\")\n",
    "    else:\n",
    "        device = torch.device(\"cpu\")\n",
    "    return device"
   ]
  },
  {
   "cell_type": "code",
   "execution_count": 10,
   "metadata": {},
   "outputs": [],
   "source": [
    "device = get_device()\n",
    "torch.cuda.empty_cache()\n",
    "\n",
    "from transformers import SamModel, SamConfig, SamProcessor\n",
    "processor = SamProcessor.from_pretrained(\"facebook/sam-vit-base\")\n",
    "model = SamModel.from_pretrained(\"facebook/sam-vit-base\")"
   ]
  },
  {
   "cell_type": "code",
   "execution_count": 11,
   "metadata": {},
   "outputs": [],
   "source": [
    "train_sam_dataset = SAMDataset(dataset=train_dataset, processor=processor)"
   ]
  },
  {
   "cell_type": "code",
   "execution_count": 12,
   "metadata": {},
   "outputs": [
    {
     "name": "stdout",
     "output_type": "stream",
     "text": [
      "pixel_values torch.Size([3, 1024, 1024])\n",
      "original_sizes torch.Size([2])\n",
      "reshaped_input_sizes torch.Size([2])\n",
      "input_boxes torch.Size([1, 4])\n",
      "ground_truth_mask (256, 256)\n"
     ]
    }
   ],
   "source": [
    "example = train_sam_dataset[0]\n",
    "for k,v in example.items():\n",
    "  print(k,v.shape)"
   ]
  },
  {
   "cell_type": "code",
   "execution_count": 13,
   "metadata": {},
   "outputs": [],
   "source": [
    "from torch.utils.data import DataLoader\n",
    "train_dataloader = DataLoader(train_sam_dataset, batch_size=2, shuffle=True, drop_last=False)"
   ]
  },
  {
   "cell_type": "code",
   "execution_count": 14,
   "metadata": {},
   "outputs": [
    {
     "name": "stdout",
     "output_type": "stream",
     "text": [
      "pixel_values torch.Size([2, 3, 1024, 1024])\n",
      "original_sizes torch.Size([2, 2])\n",
      "reshaped_input_sizes torch.Size([2, 2])\n",
      "input_boxes torch.Size([2, 1, 4])\n",
      "ground_truth_mask torch.Size([2, 256, 256])\n"
     ]
    }
   ],
   "source": [
    "batch = next(iter(train_dataloader))\n",
    "for k,v in batch.items():\n",
    "    print(k,v.shape)"
   ]
  },
  {
   "cell_type": "code",
   "execution_count": 15,
   "metadata": {},
   "outputs": [
    {
     "data": {
      "text/plain": [
       "torch.Size([2, 256, 256])"
      ]
     },
     "execution_count": 15,
     "metadata": {},
     "output_type": "execute_result"
    }
   ],
   "source": [
    "batch[\"ground_truth_mask\"].shape"
   ]
  },
  {
   "cell_type": "code",
   "execution_count": 16,
   "metadata": {},
   "outputs": [],
   "source": [
    "from torch.optim import Adam\n",
    "import monai\n",
    "\n",
    "# make sure we only compute gradients for mask decoder\n",
    "for name, param in model.named_parameters():\n",
    "    if name.startswith(\"vision_encoder\") or name.startswith(\"prompt_encoder\") or name.startswith(\"image_encoder\"):\n",
    "        param.requires_grad_(False)\n",
    "\n",
    "# Initialize the optimizer and the loss function\n",
    "optimizer = Adam(model.mask_decoder.parameters(), lr=1e-5, weight_decay=0)\n",
    "seg_loss = monai.losses.DiceCELoss(sigmoid=True, squared_pred=True, reduction='mean')"
   ]
  },
  {
   "cell_type": "code",
   "execution_count": 17,
   "metadata": {},
   "outputs": [
    {
     "name": "stderr",
     "output_type": "stream",
     "text": [
      "100%|██████████| 263/263 [01:12<00:00,  3.63it/s]\n"
     ]
    },
    {
     "name": "stdout",
     "output_type": "stream",
     "text": [
      "EPOCH: 1\n",
      "\tMean loss: 0.4111546548579186\n"
     ]
    },
    {
     "name": "stderr",
     "output_type": "stream",
     "text": [
      "100%|██████████| 263/263 [01:11<00:00,  3.69it/s]\n"
     ]
    },
    {
     "name": "stdout",
     "output_type": "stream",
     "text": [
      "EPOCH: 2\n",
      "\tMean loss: 0.10640856297155524\n"
     ]
    },
    {
     "name": "stderr",
     "output_type": "stream",
     "text": [
      "100%|██████████| 263/263 [01:15<00:00,  3.47it/s]\n"
     ]
    },
    {
     "name": "stdout",
     "output_type": "stream",
     "text": [
      "EPOCH: 3\n",
      "\tMean loss: 0.08815945714655485\n"
     ]
    },
    {
     "name": "stderr",
     "output_type": "stream",
     "text": [
      "100%|██████████| 263/263 [01:15<00:00,  3.50it/s]\n"
     ]
    },
    {
     "name": "stdout",
     "output_type": "stream",
     "text": [
      "EPOCH: 4\n",
      "\tMean loss: 0.07802486995468802\n"
     ]
    },
    {
     "name": "stderr",
     "output_type": "stream",
     "text": [
      "100%|██████████| 263/263 [01:11<00:00,  3.68it/s]\n"
     ]
    },
    {
     "name": "stdout",
     "output_type": "stream",
     "text": [
      "EPOCH: 5\n",
      "\tMean loss: 0.07344596976053125\n"
     ]
    },
    {
     "name": "stderr",
     "output_type": "stream",
     "text": [
      "100%|██████████| 263/263 [01:13<00:00,  3.56it/s]\n"
     ]
    },
    {
     "name": "stdout",
     "output_type": "stream",
     "text": [
      "EPOCH: 6\n",
      "\tMean loss: 0.06671390715391577\n"
     ]
    },
    {
     "name": "stderr",
     "output_type": "stream",
     "text": [
      "100%|██████████| 263/263 [01:13<00:00,  3.58it/s]\n"
     ]
    },
    {
     "name": "stdout",
     "output_type": "stream",
     "text": [
      "EPOCH: 7\n",
      "\tMean loss: 0.060204697372710524\n"
     ]
    },
    {
     "name": "stderr",
     "output_type": "stream",
     "text": [
      "100%|██████████| 263/263 [01:13<00:00,  3.59it/s]\n"
     ]
    },
    {
     "name": "stdout",
     "output_type": "stream",
     "text": [
      "EPOCH: 8\n",
      "\tMean loss: 0.0573413221098256\n"
     ]
    },
    {
     "name": "stderr",
     "output_type": "stream",
     "text": [
      "100%|██████████| 263/263 [01:14<00:00,  3.55it/s]\n"
     ]
    },
    {
     "name": "stdout",
     "output_type": "stream",
     "text": [
      "EPOCH: 9\n",
      "\tMean loss: 0.05645936703266923\n"
     ]
    },
    {
     "name": "stderr",
     "output_type": "stream",
     "text": [
      "100%|██████████| 263/263 [01:12<00:00,  3.63it/s]\n"
     ]
    },
    {
     "name": "stdout",
     "output_type": "stream",
     "text": [
      "EPOCH: 10\n",
      "\tMean loss: 0.055893734763217066\n"
     ]
    },
    {
     "name": "stderr",
     "output_type": "stream",
     "text": [
      "100%|██████████| 263/263 [01:10<00:00,  3.73it/s]\n"
     ]
    },
    {
     "name": "stdout",
     "output_type": "stream",
     "text": [
      "EPOCH: 11\n",
      "\tMean loss: 0.051789295873799476\n"
     ]
    },
    {
     "name": "stderr",
     "output_type": "stream",
     "text": [
      "100%|██████████| 263/263 [01:11<00:00,  3.66it/s]\n"
     ]
    },
    {
     "name": "stdout",
     "output_type": "stream",
     "text": [
      "EPOCH: 12\n",
      "\tMean loss: 0.05010352632696581\n"
     ]
    },
    {
     "name": "stderr",
     "output_type": "stream",
     "text": [
      "100%|██████████| 263/263 [01:11<00:00,  3.66it/s]\n"
     ]
    },
    {
     "name": "stdout",
     "output_type": "stream",
     "text": [
      "EPOCH: 13\n",
      "\tMean loss: 0.04773221778446107\n"
     ]
    },
    {
     "name": "stderr",
     "output_type": "stream",
     "text": [
      "100%|██████████| 263/263 [01:12<00:00,  3.64it/s]\n"
     ]
    },
    {
     "name": "stdout",
     "output_type": "stream",
     "text": [
      "EPOCH: 14\n",
      "\tMean loss: 0.04649758456671476\n"
     ]
    },
    {
     "name": "stderr",
     "output_type": "stream",
     "text": [
      "100%|██████████| 263/263 [01:13<00:00,  3.59it/s]\n"
     ]
    },
    {
     "name": "stdout",
     "output_type": "stream",
     "text": [
      "EPOCH: 15\n",
      "\tMean loss: 0.04704332805483004\n"
     ]
    },
    {
     "name": "stderr",
     "output_type": "stream",
     "text": [
      "100%|██████████| 263/263 [01:11<00:00,  3.69it/s]\n"
     ]
    },
    {
     "name": "stdout",
     "output_type": "stream",
     "text": [
      "EPOCH: 16\n",
      "\tMean loss: 0.04654571037038367\n"
     ]
    },
    {
     "name": "stderr",
     "output_type": "stream",
     "text": [
      "100%|██████████| 263/263 [01:12<00:00,  3.63it/s]\n"
     ]
    },
    {
     "name": "stdout",
     "output_type": "stream",
     "text": [
      "EPOCH: 17\n",
      "\tMean loss: 0.04330312722883127\n"
     ]
    },
    {
     "name": "stderr",
     "output_type": "stream",
     "text": [
      "100%|██████████| 263/263 [01:13<00:00,  3.60it/s]\n"
     ]
    },
    {
     "name": "stdout",
     "output_type": "stream",
     "text": [
      "EPOCH: 18\n",
      "\tMean loss: 0.04208499799613547\n"
     ]
    },
    {
     "name": "stderr",
     "output_type": "stream",
     "text": [
      "100%|██████████| 263/263 [01:13<00:00,  3.60it/s]\n"
     ]
    },
    {
     "name": "stdout",
     "output_type": "stream",
     "text": [
      "EPOCH: 19\n",
      "\tMean loss: 0.045608142167754724\n"
     ]
    },
    {
     "name": "stderr",
     "output_type": "stream",
     "text": [
      "100%|██████████| 263/263 [01:13<00:00,  3.56it/s]\n"
     ]
    },
    {
     "name": "stdout",
     "output_type": "stream",
     "text": [
      "EPOCH: 20\n",
      "\tMean loss: 0.04046883543478785\n"
     ]
    },
    {
     "name": "stderr",
     "output_type": "stream",
     "text": [
      "100%|██████████| 263/263 [01:12<00:00,  3.65it/s]\n"
     ]
    },
    {
     "name": "stdout",
     "output_type": "stream",
     "text": [
      "EPOCH: 21\n",
      "\tMean loss: 0.03822536753780942\n"
     ]
    },
    {
     "name": "stderr",
     "output_type": "stream",
     "text": [
      "100%|██████████| 263/263 [01:12<00:00,  3.64it/s]\n"
     ]
    },
    {
     "name": "stdout",
     "output_type": "stream",
     "text": [
      "EPOCH: 22\n",
      "\tMean loss: 0.037863717395847686\n"
     ]
    },
    {
     "name": "stderr",
     "output_type": "stream",
     "text": [
      "100%|██████████| 263/263 [01:12<00:00,  3.64it/s]\n"
     ]
    },
    {
     "name": "stdout",
     "output_type": "stream",
     "text": [
      "EPOCH: 23\n",
      "\tMean loss: 0.0410076733058878\n"
     ]
    },
    {
     "name": "stderr",
     "output_type": "stream",
     "text": [
      "100%|██████████| 263/263 [01:12<00:00,  3.63it/s]\n"
     ]
    },
    {
     "name": "stdout",
     "output_type": "stream",
     "text": [
      "EPOCH: 24\n",
      "\tMean loss: 0.0365442608902762\n"
     ]
    },
    {
     "name": "stderr",
     "output_type": "stream",
     "text": [
      "100%|██████████| 263/263 [01:12<00:00,  3.64it/s]"
     ]
    },
    {
     "name": "stdout",
     "output_type": "stream",
     "text": [
      "EPOCH: 25\n",
      "\tMean loss: 0.035020528834830165\n"
     ]
    },
    {
     "name": "stderr",
     "output_type": "stream",
     "text": [
      "\n"
     ]
    }
   ],
   "source": [
    "from tqdm import tqdm\n",
    "from statistics import mean\n",
    "import torch\n",
    "from torch.nn.functional import threshold, normalize\n",
    "\n",
    "# Training loop\n",
    "num_epochs = 25\n",
    "\n",
    "device = \"cuda\" if torch.cuda.is_available() else \"cpu\"\n",
    "model.to(device)\n",
    "\n",
    "model.train()\n",
    "for epoch in range(num_epochs):\n",
    "    epoch_losses = []\n",
    "    for batch in tqdm(train_dataloader):\n",
    "        # forward pass\n",
    "        outputs = model(pixel_values=batch[\"pixel_values\"].to(device),\n",
    "                        input_boxes=batch[\"input_boxes\"].to(device),\n",
    "                        multimask_output=False)\n",
    "\n",
    "        # compute loss\n",
    "        predicted_masks = outputs.pred_masks.squeeze(1)\n",
    "        ground_truth_masks = batch[\"ground_truth_mask\"].float().to(device)\n",
    "        loss = seg_loss(predicted_masks, ground_truth_masks.unsqueeze(1))\n",
    "\n",
    "        # backward pass (compute gradients of parameters w.r.t. loss)\n",
    "        optimizer.zero_grad()\n",
    "        loss.backward()\n",
    "\n",
    "        # optimize\n",
    "        optimizer.step()\n",
    "        epoch_losses.append(loss.item())\n",
    "\n",
    "    print(f'EPOCH: {epoch + 1}')\n",
    "    print(f'\\tMean loss: {mean(epoch_losses)}')"
   ]
  },
  {
   "cell_type": "code",
   "execution_count": 18,
   "metadata": {},
   "outputs": [],
   "source": [
    "torch.save(model.state_dict(), f\"sam_checkpoints_finetuned/{image_size}_2.pth\")"
   ]
  },
  {
   "cell_type": "code",
   "execution_count": 19,
   "metadata": {},
   "outputs": [],
   "source": [
    "torch.cuda.empty_cache()"
   ]
  }
 ],
 "metadata": {
  "kernelspec": {
   "display_name": ".venv",
   "language": "python",
   "name": "python3"
  },
  "language_info": {
   "codemirror_mode": {
    "name": "ipython",
    "version": 3
   },
   "file_extension": ".py",
   "mimetype": "text/x-python",
   "name": "python",
   "nbconvert_exporter": "python",
   "pygments_lexer": "ipython3",
   "version": "3.10.11"
  }
 },
 "nbformat": 4,
 "nbformat_minor": 2
}
